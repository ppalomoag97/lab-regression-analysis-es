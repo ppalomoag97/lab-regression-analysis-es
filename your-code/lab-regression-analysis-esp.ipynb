{
 "cells": [
  {
   "cell_type": "markdown",
   "metadata": {},
   "source": [
    "# Laboratorio: Análisis de Regresión\n",
    "\n",
    "### Antes de empezar:\n",
    "\n",
    "* Lee el archivo README.md\n",
    "* Comenta tanto como puedas y utiliza los recursos (archivo README.md)\n",
    "\n",
    "¡Feliz aprendizaje!\n",
    "\n",
    "## Desafío 1\n",
    "Trabajo en un bootcamp de programación, y he desarrollado una teoría de que cuanto más jóvenes son mis estudiantes, más a menudo llegan tarde a clase. Para probar mi hipótesis, he recopilado algunos datos en la siguiente tabla:\n",
    "\n",
    "| StudentID | Edad | Retrasos |\n",
    "|--------|-----|------------|\n",
    "| 1      | 17  | 10         |\n",
    "| 2      | 51  | 1          |\n",
    "| 3      | 27  | 5          |\n",
    "| 4      | 21  | 9         |\n",
    "| 5      | 36  |  4         |\n",
    "| 6      | 48  |  2         |\n",
    "| 7      | 19  |  9         |\n",
    "| 8      | 26  | 6          |\n",
    "| 9      | 54  |  0         |\n",
    "| 10     | 30  |  3         |\n"
   ]
  },
  {
   "cell_type": "code",
   "execution_count": 1,
   "metadata": {},
   "outputs": [],
   "source": [
    "import pandas as pd\n",
    "import numpy as np\n",
    "import plotly.express as px\n",
    "import statsmodels.formula.api as smf\n",
    "from sklearn.linear_model import LinearRegression\n",
    "import matplotlib.pyplot as plt\n",
    "import seaborn as sns"
   ]
  },
  {
   "cell_type": "markdown",
   "metadata": {},
   "source": [
    "Utiliza este comando para crear un dataframe con los datos proporcionados en la tabla.\n",
    "~~~~\n",
    "student_data = pd.DataFrame({'Edad': [17,51,27,21,36,48,19,26,54,30], 'Retrasos': [10,1,5,9,4,2,9,6,0,3]})\n",
    "~~~~"
   ]
  },
  {
   "cell_type": "code",
   "execution_count": 2,
   "metadata": {},
   "outputs": [],
   "source": [
    "student_data = pd.DataFrame({'Edad': [17,51,27,21,36,48,19,26,54,30], 'Retrasos': [10,1,5,9,4,2,9,6,0,3]})"
   ]
  },
  {
   "cell_type": "markdown",
   "metadata": {},
   "source": [
    "Dibuja un diagrama de dispersión (scatter plot) para los datos."
   ]
  },
  {
   "cell_type": "code",
   "execution_count": 18,
   "metadata": {},
   "outputs": [
    {
     "data": {
      "image/png": "[encoded data removed]",
      "text/plain": [
       "<Figure size 640x480 with 1 Axes>"
      ]
     },
     "metadata": {},
     "output_type": "display_data"
    }
   ],
   "source": [
    "x = student_data['Edad']\n",
    "y = student_data['Retrasos']\n",
    "\n",
    "plt.scatter(x, y)\n",
    "plt.xlabel('Edad')\n",
    "plt.ylabel('Retrasos')\n",
    "plt.title('Diagrama de dispersión de la Edad y los Retrasos')\n",
    "plt.show()"
   ]
  },
  {
   "cell_type": "markdown",
   "metadata": {},
   "source": [
    "¿Ves alguna tendencia? ¿Puedes hacer alguna hipótesis sobre la relación entre la edad y el número de retrasos?"
   ]
  },
  {
   "cell_type": "markdown",
   "metadata": {},
   "source": [
    "Se observa una clara tendencia lineal. A medida que disminuye la edad aumenta el número de retrasos."
   ]
  },
  {
   "cell_type": "markdown",
   "metadata": {},
   "source": [
    "Calcula la covarianza y la correlación de las variables en tu gráfico. ¿Cuál es la diferencia entre estas dos medidas? Compara sus valores. ¿Qué te indican en este caso? Agrega tus respuestas como comentarios después de tu código."
   ]
  },
  {
   "cell_type": "markdown",
   "metadata": {},
   "source": [
    "#### COVARIANZA\n"
   ]
  },
  {
   "cell_type": "code",
   "execution_count": 10,
   "metadata": {},
   "outputs": [
    {
     "name": "stdout",
     "output_type": "stream",
     "text": [
      "La covarianza entre Edad y Retrasos es: -45.56666666666666\n"
     ]
    }
   ],
   "source": [
    "covarianza = x.cov(y)\n",
    "print(f'La covarianza entre Edad y Retrasos es: {covarianza}')"
   ]
  },
  {
   "cell_type": "code",
   "execution_count": 13,
   "metadata": {},
   "outputs": [
    {
     "name": "stdout",
     "output_type": "stream",
     "text": [
      "La covarianza manual entre Edad y Retrasos es: -45.56666666666667\n"
     ]
    }
   ],
   "source": [
    "mean_x = np.mean(x)\n",
    "mean_y = np.mean(y)\n",
    "\n",
    "# Número de observaciones\n",
    "n = len(x)\n",
    "\n",
    "# Cálculo de la covarianza\n",
    "covarianza_manual = np.sum((x - mean_x) * (y - mean_y)) / (n - 1)\n",
    "print(f'La covarianza manual entre Edad y Retrasos es: {covarianza_manual}')"
   ]
  },
  {
   "cell_type": "markdown",
   "metadata": {},
   "source": [
    "#### La covarianza nos dice si hay una relación lineal entre dos variables y cómo se comportan las dos variables con respecto a esa relación. Observamos una fuerte relación negativa, a medida que aumenta la edad, disminuye el número de retrasos."
   ]
  },
  {
   "cell_type": "markdown",
   "metadata": {},
   "source": [
    "#### CORRELACIÓN"
   ]
  },
  {
   "cell_type": "code",
   "execution_count": 15,
   "metadata": {},
   "outputs": [
    {
     "name": "stdout",
     "output_type": "stream",
     "text": [
      "La correlación entre Edad y Retrasos es: -0.9391626886887122\n"
     ]
    }
   ],
   "source": [
    "correlacion = x.corr(y)\n",
    "print(f'La correlación entre Edad y Retrasos es: {correlacion}')"
   ]
  },
  {
   "cell_type": "markdown",
   "metadata": {},
   "source": [
    "#### La correlación nos indica la fuerza y la dirección de una relación lineal entre dos variables. A diferencia de la covarianza, la correlación está normalizada, lo que significa que siempre toma valores entre -1 y 1, independientemente de las unidades de las variables. Siendo nuestra correlación -0.93, tenemos una muy fuerte correlación."
   ]
  },
  {
   "cell_type": "markdown",
   "metadata": {},
   "source": [
    "Construye un modelo de regresión para estos datos. ¿Cuál será tu variable de resultado? ¿Qué tipo de regresión estás utilizando? Agrega tus respuestas como comentarios después de tu código."
   ]
  },
  {
   "cell_type": "code",
   "execution_count": 29,
   "metadata": {},
   "outputs": [
    {
     "name": "stdout",
     "output_type": "stream",
     "text": [
      "(8, 1) (2, 1) (8,) (2,)\n"
     ]
    }
   ],
   "source": [
    "from sklearn.model_selection import train_test_split\n",
    "from scipy.optimize import fmin\n",
    "from sklearn import linear_model\n",
    "from sklearn.linear_model import LinearRegression\n",
    "\n",
    "X = np.array(x, dtype=np.float64).reshape(-1,1)\n",
    "y = np.array(y, dtype=np.float64)\n",
    "\n",
    "#1. División en entrenamiento y prueba\n",
    "X_train, X_test, y_train, y_test = train_test_split(X, y, test_size=.2)\n",
    "print(X_train.shape, X_test.shape, y_train.shape, y_test.shape)"
   ]
  },
  {
   "cell_type": "code",
   "execution_count": 30,
   "metadata": {},
   "outputs": [
    {
     "name": "stdout",
     "output_type": "stream",
     "text": [
      "Optimization terminated successfully.\n",
      "         Current function value: 13.229461\n",
      "         Iterations: 98\n",
      "         Function evaluations: 178\n",
      "Coeficientes: a0 = 12.994880501734633, a1 = -0.24669035163583822\n"
     ]
    }
   ],
   "source": [
    "#2.Ajustamos el modelo\n",
    "\n",
    "# Función de error cuadrático\n",
    "sse = lambda a, X, y: np.sum((a[0] + a[1]*X.flatten() - y) ** 2)\n",
    "\n",
    "# Encontrar los coeficientes óptimos\n",
    "a0, a1 = fmin(sse, [0, 1], args=(X_train, y_train))\n",
    "print(f'Coeficientes: a0 = {a0}, a1 = {a1}')"
   ]
  },
  {
   "cell_type": "code",
   "execution_count": 31,
   "metadata": {},
   "outputs": [
    {
     "name": "stdout",
     "output_type": "stream",
     "text": [
      "12.994831484871323 [-0.24668892]\n"
     ]
    }
   ],
   "source": [
    "#3. Predicciones en el conjunto de prueba\n",
    "# Create the Linear Regression estimator\n",
    "lm = LinearRegression()\n",
    "\n",
    "# Perform the fitting\n",
    "lm.fit(X_train, y_train)\n",
    "\n",
    "# Print coefs\n",
    "print(lm.intercept_, lm.coef_)"
   ]
  },
  {
   "cell_type": "markdown",
   "metadata": {},
   "source": [
    "Grafica tu modelo de regresión en tu diagrama de dispersión."
   ]
  },
  {
   "cell_type": "code",
   "execution_count": 32,
   "metadata": {},
   "outputs": [
    {
     "data": {
      "text/plain": [
       "[<matplotlib.lines.Line2D at 0x7f22daefeb90>]"
      ]
     },
     "execution_count": 32,
     "metadata": {},
     "output_type": "execute_result"
    },
    {
     "data": {
      "image/png": "[encoded data removed]",
      "text/plain": [
       "<Figure size 640x480 with 1 Axes>"
      ]
     },
     "metadata": {},
     "output_type": "display_data"
    }
   ],
   "source": [
    "y_train_pred = lm.predict(X_train)\n",
    "\n",
    "plt.plot(X_train, y_train, \"o\", alpha=.5)\n",
    "plt.plot(X_test, y_test, \"o\", alpha=.5)\n",
    "plt.plot(X_train, y_train_pred, \"r\")\n"
   ]
  },
  {
   "cell_type": "markdown",
   "metadata": {},
   "source": [
    "Interpreta los resultados de tu modelo. ¿Qué conclusiones puedes sacar de tu modelo y qué tan confiado estás en estas conclusiones? ¿Podemos decir que la edad es un buen predictor de la tardanza? Agrega tus respuestas como comentarios después de tu código."
   ]
  },
  {
   "cell_type": "markdown",
   "metadata": {},
   "source": [
    "Podemos evaluar el ajuste del modelo calculando el error cuadrático medio (MSE) y el coeficiente de determinación (r^2) del modelo."
   ]
  },
  {
   "cell_type": "code",
   "execution_count": 33,
   "metadata": {},
   "outputs": [
    {
     "name": "stdout",
     "output_type": "stream",
     "text": [
      "Score:\n",
      "0.8422717074666652 0.98505994646693\n",
      "MSE:\n",
      "1.6536825670291813 0.059760214132280054\n"
     ]
    }
   ],
   "source": [
    "print('Score:')\n",
    "print(lm.score(X_train, y_train), lm.score(X_test, y_test))\n",
    "\n",
    "# Compute MSE for training and testing sets \n",
    "y_train_pred = lm.predict(X_train)\n",
    "y_test_pred = lm.predict(X_test)\n",
    "\n",
    "mse_train = np.mean((y_train_pred - y_train)**2)\n",
    "mse_test = np.mean((y_test_pred - y_test)**2)\n",
    "print('MSE:')\n",
    "print(mse_train, mse_test)"
   ]
  },
  {
   "cell_type": "markdown",
   "metadata": {},
   "source": [
    "El coeficiente de determinación mide la proporción de la variación en la variable dependiente que es explicada por el modelo. Su valor de 0.95 indica que el modelo predice muy bien los datos."
   ]
  },
  {
   "cell_type": "markdown",
   "metadata": {},
   "source": [
    "El MSE es una medida de la calidad de las predicciones del modelo. Calcula el promedio de los cuadrados de las diferencias entre los valores predichos y los valores observados. El MSE de los datos de prueba es muy bajo, 0.05, por lo que las predicciones del modelo están extremadamente cerca de los valores observados en el conjunto de prueba. "
   ]
  },
  {
   "cell_type": "markdown",
   "metadata": {},
   "source": [
    "## Desafío 2\n",
    "Para la segunda parte de este laboratorio, utilizaremos el conjunto de datos vehicles.csv. Puedes encontrar una copia del conjunto de datos en la carpeta de GitHub. Este conjunto de datos incluye variables relacionadas con las características de los vehículos, incluyendo el modelo, la marca y los estándares de eficiencia energética, así como las emisiones de CO2 de cada coche. Como se discutió en clase, el objetivo de este ejercicio es predecir las emisiones de CO2 de los vehículos basándose en varias variables independientes."
   ]
  },
  {
   "cell_type": "code",
   "execution_count": 40,
   "metadata": {},
   "outputs": [
    {
     "data": {
      "text/html": [
       "<div>\n",
       "<style scoped>\n",
       "    .dataframe tbody tr th:only-of-type {\n",
       "        vertical-align: middle;\n",
       "    }\n",
       "\n",
       "    .dataframe tbody tr th {\n",
       "        vertical-align: top;\n",
       "    }\n",
       "\n",
       "    .dataframe thead th {\n",
       "        text-align: right;\n",
       "    }\n",
       "</style>\n",
       "<table border=\"1\" class=\"dataframe\">\n",
       "  <thead>\n",
       "    <tr style=\"text-align: right;\">\n",
       "      <th></th>\n",
       "      <th>Make</th>\n",
       "      <th>Model</th>\n",
       "      <th>Year</th>\n",
       "      <th>Engine Displacement</th>\n",
       "      <th>Cylinders</th>\n",
       "      <th>Transmission</th>\n",
       "      <th>Drivetrain</th>\n",
       "      <th>Vehicle Class</th>\n",
       "      <th>Fuel Type</th>\n",
       "      <th>Fuel Barrels/Year</th>\n",
       "      <th>City MPG</th>\n",
       "      <th>Highway MPG</th>\n",
       "      <th>Combined MPG</th>\n",
       "      <th>CO2 Emission Grams/Mile</th>\n",
       "      <th>Fuel Cost/Year</th>\n",
       "    </tr>\n",
       "  </thead>\n",
       "  <tbody>\n",
       "    <tr>\n",
       "      <th>0</th>\n",
       "      <td>AM General</td>\n",
       "      <td>DJ Po Vehicle 2WD</td>\n",
       "      <td>1984</td>\n",
       "      <td>2.5</td>\n",
       "      <td>4.0</td>\n",
       "      <td>Automatic 3-spd</td>\n",
       "      <td>2-Wheel Drive</td>\n",
       "      <td>Special Purpose Vehicle 2WD</td>\n",
       "      <td>Regular</td>\n",
       "      <td>19.388824</td>\n",
       "      <td>18</td>\n",
       "      <td>17</td>\n",
       "      <td>17</td>\n",
       "      <td>522.764706</td>\n",
       "      <td>1950</td>\n",
       "    </tr>\n",
       "    <tr>\n",
       "      <th>1</th>\n",
       "      <td>AM General</td>\n",
       "      <td>FJ8c Post Office</td>\n",
       "      <td>1984</td>\n",
       "      <td>4.2</td>\n",
       "      <td>6.0</td>\n",
       "      <td>Automatic 3-spd</td>\n",
       "      <td>2-Wheel Drive</td>\n",
       "      <td>Special Purpose Vehicle 2WD</td>\n",
       "      <td>Regular</td>\n",
       "      <td>25.354615</td>\n",
       "      <td>13</td>\n",
       "      <td>13</td>\n",
       "      <td>13</td>\n",
       "      <td>683.615385</td>\n",
       "      <td>2550</td>\n",
       "    </tr>\n",
       "    <tr>\n",
       "      <th>2</th>\n",
       "      <td>AM General</td>\n",
       "      <td>Post Office DJ5 2WD</td>\n",
       "      <td>1985</td>\n",
       "      <td>2.5</td>\n",
       "      <td>4.0</td>\n",
       "      <td>Automatic 3-spd</td>\n",
       "      <td>Rear-Wheel Drive</td>\n",
       "      <td>Special Purpose Vehicle 2WD</td>\n",
       "      <td>Regular</td>\n",
       "      <td>20.600625</td>\n",
       "      <td>16</td>\n",
       "      <td>17</td>\n",
       "      <td>16</td>\n",
       "      <td>555.437500</td>\n",
       "      <td>2100</td>\n",
       "    </tr>\n",
       "    <tr>\n",
       "      <th>3</th>\n",
       "      <td>AM General</td>\n",
       "      <td>Post Office DJ8 2WD</td>\n",
       "      <td>1985</td>\n",
       "      <td>4.2</td>\n",
       "      <td>6.0</td>\n",
       "      <td>Automatic 3-spd</td>\n",
       "      <td>Rear-Wheel Drive</td>\n",
       "      <td>Special Purpose Vehicle 2WD</td>\n",
       "      <td>Regular</td>\n",
       "      <td>25.354615</td>\n",
       "      <td>13</td>\n",
       "      <td>13</td>\n",
       "      <td>13</td>\n",
       "      <td>683.615385</td>\n",
       "      <td>2550</td>\n",
       "    </tr>\n",
       "    <tr>\n",
       "      <th>4</th>\n",
       "      <td>ASC Incorporated</td>\n",
       "      <td>GNX</td>\n",
       "      <td>1987</td>\n",
       "      <td>3.8</td>\n",
       "      <td>6.0</td>\n",
       "      <td>Automatic 4-spd</td>\n",
       "      <td>Rear-Wheel Drive</td>\n",
       "      <td>Midsize Cars</td>\n",
       "      <td>Premium</td>\n",
       "      <td>20.600625</td>\n",
       "      <td>14</td>\n",
       "      <td>21</td>\n",
       "      <td>16</td>\n",
       "      <td>555.437500</td>\n",
       "      <td>2550</td>\n",
       "    </tr>\n",
       "  </tbody>\n",
       "</table>\n",
       "</div>"
      ],
      "text/plain": [
       "               Make                Model  Year  Engine Displacement  \\\n",
       "0        AM General    DJ Po Vehicle 2WD  1984                  2.5   \n",
       "1        AM General     FJ8c Post Office  1984                  4.2   \n",
       "2        AM General  Post Office DJ5 2WD  1985                  2.5   \n",
       "3        AM General  Post Office DJ8 2WD  1985                  4.2   \n",
       "4  ASC Incorporated                  GNX  1987                  3.8   \n",
       "\n",
       "   Cylinders     Transmission        Drivetrain                Vehicle Class  \\\n",
       "0        4.0  Automatic 3-spd     2-Wheel Drive  Special Purpose Vehicle 2WD   \n",
       "1        6.0  Automatic 3-spd     2-Wheel Drive  Special Purpose Vehicle 2WD   \n",
       "2        4.0  Automatic 3-spd  Rear-Wheel Drive  Special Purpose Vehicle 2WD   \n",
       "3        6.0  Automatic 3-spd  Rear-Wheel Drive  Special Purpose Vehicle 2WD   \n",
       "4        6.0  Automatic 4-spd  Rear-Wheel Drive                 Midsize Cars   \n",
       "\n",
       "  Fuel Type  Fuel Barrels/Year  City MPG  Highway MPG  Combined MPG  \\\n",
       "0   Regular          19.388824        18           17            17   \n",
       "1   Regular          25.354615        13           13            13   \n",
       "2   Regular          20.600625        16           17            16   \n",
       "3   Regular          25.354615        13           13            13   \n",
       "4   Premium          20.600625        14           21            16   \n",
       "\n",
       "   CO2 Emission Grams/Mile  Fuel Cost/Year  \n",
       "0               522.764706            1950  \n",
       "1               683.615385            2550  \n",
       "2               555.437500            2100  \n",
       "3               683.615385            2550  \n",
       "4               555.437500            2550  "
      ]
     },
     "execution_count": 40,
     "metadata": {},
     "output_type": "execute_result"
    }
   ],
   "source": [
    "# Import any libraries you may need & the data\n",
    "vehicles = pd.read_csv(\"../vehicles.csv\")\n",
    "vehicles.head()"
   ]
  },
  {
   "cell_type": "code",
   "execution_count": 44,
   "metadata": {},
   "outputs": [],
   "source": [
    "variables = ['Year', 'Cylinders', 'Fuel Barrels/Year', 'Combined MPG', 'Fuel Cost/Year']\n",
    "resultado = 'CO2 Emission Grams/Mile'\n",
    "\n",
    "X = vehicles[variables]\n",
    "y = vehicles[resultado]"
   ]
  },
  {
   "cell_type": "markdown",
   "metadata": {},
   "source": [
    "Vamos a utilizar las siguientes variables para nuestro análisis: Año, Cilindros, Barriles de Combustible/Año, MPG Combinado, y Costo de Combustible/Año. Utilizaremos 'Emisiones de CO2 Gramos/Milla' como nuestra variable de resultado.\n",
    "\n",
    "Calcula las correlaciones entre cada una de estas variables y el resultado. ¿Cuál variable crees que será la más importante para determinar las emisiones de CO2? ¿Cuál proporciona la menor cantidad de información útil para determinar las emisiones de CO2? Agrega tus respuestas como comentarios después de tu código."
   ]
  },
  {
   "cell_type": "code",
   "execution_count": 64,
   "metadata": {},
   "outputs": [],
   "source": [
    "seed = 1"
   ]
  },
  {
   "cell_type": "code",
   "execution_count": 65,
   "metadata": {},
   "outputs": [
    {
     "name": "stdout",
     "output_type": "stream",
     "text": [
      "Correlaciones con 'Emisiones de CO2 Gramos/Milla':\n",
      "Year                -0.222300\n",
      "Cylinders            0.752393\n",
      "Fuel Barrels/Year    0.986189\n",
      "Combined MPG        -0.926229\n",
      "Fuel Cost/Year       0.930865\n",
      "Name: CO2 Emission Grams/Mile, dtype: float64\n"
     ]
    }
   ],
   "source": [
    "vehicles_selected = vehicles[variables + [resultado]]\n",
    "\n",
    "# Calcular las correlaciones\n",
    "correlation_matrix = vehicles_selected.corr()\n",
    "\n",
    "# Mostrar las correlaciones de cada variable con la variable de resultado\n",
    "correlation_with_result = correlation_matrix[resultado].drop(resultado)  # Excluir la correlación de la variable de resultado consigo misma\n",
    "print(\"Correlaciones con 'Emisiones de CO2 Gramos/Milla':\")\n",
    "print(correlation_with_result)"
   ]
  },
  {
   "cell_type": "markdown",
   "metadata": {},
   "source": [
    "Según las correlaciones, parece que el Número de Barriles de Combustible/Año cunto con el Costo del Combustible por Año serían las dos variables que pueden explicar más las emisiones de CO2. "
   ]
  },
  {
   "cell_type": "markdown",
   "metadata": {},
   "source": [
    "Construye un modelo de regresión para estos datos. ¿Qué tipo de regresión estás utilizando? Agrega tus respuestas como comentarios después de tu código."
   ]
  },
  {
   "cell_type": "code",
   "execution_count": 66,
   "metadata": {},
   "outputs": [
    {
     "name": "stdout",
     "output_type": "stream",
     "text": [
      "Tamaños de entrenamiento y prueba de X: (7190, 5) (28762, 5)\n",
      "Tamaños de entrenamiento y prueba de y: (7190,) (28762,)\n"
     ]
    }
   ],
   "source": [
    "# Dividir el conjunto de datos en entrenamiento y prueba\n",
    "X_train, X_test, y_train, y_test = train_test_split(X, y, test_size=0.8)\n",
    "\n",
    "print('Tamaños de entrenamiento y prueba de X: {} {}'.format(X_train.shape, X_test.shape))\n",
    "print('Tamaños de entrenamiento y prueba de y: {} {}'.format(y_train.shape, y_test.shape))"
   ]
  },
  {
   "cell_type": "code",
   "execution_count": 69,
   "metadata": {},
   "outputs": [
    {
     "name": "stdout",
     "output_type": "stream",
     "text": [
      "\n",
      "Intercepto y coeficientes:\n",
      "753.091221013482 [-0.31293579  2.01293371 19.29955924 -3.01167218  0.03008081]\n",
      "\n",
      "Error Cuadrático Medio (ECM): 275.45958494141973\n",
      "Puntaje R^2 (entrenamiento): 0.9823051368264099\n",
      "Puntaje R^2 (prueba): 0.9804894707368844\n"
     ]
    }
   ],
   "source": [
    "from sklearn.model_selection import train_test_split\n",
    "from sklearn import datasets\n",
    "from sklearn import linear_model\n",
    "from sklearn.linear_model import LinearRegression\n",
    "from sklearn.metrics import mean_squared_error, r2_score\n",
    "\n",
    "# Ajuste de un modelo de regresión lineal múltiple\n",
    "lr = LinearRegression()  # Crear el estimador de Regresión Lineal\n",
    "lr.fit(X_train, y_train)  # Realizar el ajuste\n",
    "\n",
    "# Coeficientes de regresión\n",
    "coefs_lr = pd.Series(np.abs(lr.coef_), index=variables).sort_values()\n",
    "\n",
    "# Predicción\n",
    "y_test_pred = lr.predict(X_test)\n",
    "\n",
    "# Evaluación\n",
    "mse = mean_squared_error(y_test, y_test_pred)\n",
    "r2score_train = lr.score(X_train, y_train)\n",
    "r2score_test = lr.score(X_test, y_test)\n",
    "\n",
    "# Mostrar resultados\n",
    "# Intercepto y coeficientes\n",
    "print('\\nIntercepto y coeficientes:\\n{} {}'.format(lr.intercept_, lr.coef_))\n",
    "# Error cuadrático medio\n",
    "print('\\nError Cuadrático Medio (ECM): {}'.format(mse))\n",
    "# Coeficiente de determinación: 1 es una predicción perfecta\n",
    "print('Puntaje R^2 (entrenamiento): {}'.format(r2score_train))\n",
    "print('Puntaje R^2 (prueba): {}'.format(r2score_test))"
   ]
  },
  {
   "cell_type": "code",
   "execution_count": 70,
   "metadata": {},
   "outputs": [
    {
     "data": {
      "text/plain": [
       "Fuel Cost/Year        0.030081\n",
       "Year                  0.312936\n",
       "Cylinders             2.012934\n",
       "Combined MPG          3.011672\n",
       "Fuel Barrels/Year    19.299559\n",
       "dtype: float64"
      ]
     },
     "execution_count": 70,
     "metadata": {},
     "output_type": "execute_result"
    }
   ],
   "source": [
    "coefs_lr"
   ]
  },
  {
   "cell_type": "code",
   "execution_count": 71,
   "metadata": {},
   "outputs": [
    {
     "data": {
      "text/plain": [
       "<Axes: title={'center': 'Coeficientes del Modelo (Valor Absoluto)'}>"
      ]
     },
     "execution_count": 71,
     "metadata": {},
     "output_type": "execute_result"
    },
    {
     "data": {
      "image/png": "[encoded data removed]",
      "text/plain": [
       "<Figure size 640x480 with 1 Axes>"
      ]
     },
     "metadata": {},
     "output_type": "display_data"
    }
   ],
   "source": [
    "# Graficar el valor absoluto de los coeficientes del modelo\n",
    "coefs_lr.plot(kind='bar', title='Coeficientes del Modelo (Valor Absoluto)')"
   ]
  },
  {
   "cell_type": "markdown",
   "metadata": {},
   "source": [
    "Podemos ver que todos los coeficientes obtenidos son diferentes de cero, lo que significa que no se descarta ninguna variable. A continuación, intentaremos construir un nuevo modelo para predecir el precio utilizando los factores más importantes y descartando los no informativos. Para hacer esto, podemos crear un regresor LASSO, forzando coeficientes a cero."
   ]
  },
  {
   "cell_type": "markdown",
   "metadata": {},
   "source": [
    "#### Modelos de Regularización"
   ]
  },
  {
   "cell_type": "markdown",
   "metadata": {},
   "source": [
    "RIDGE"
   ]
  },
  {
   "cell_type": "code",
   "execution_count": 74,
   "metadata": {},
   "outputs": [
    {
     "name": "stdout",
     "output_type": "stream",
     "text": [
      "\n",
      "Intercepto y coeficientes:\n",
      "753.2133544218473 [-0.31298847  2.01298266 19.29832457 -3.01204803  0.03008727]\n",
      "\n",
      "Error Cuadrático Medio (MSE): 275.45785958154346\n",
      "Puntaje R^2 (entrenamiento): 0.9823051366082735\n",
      "Puntaje R^2 (prueba): 0.9804895929424136\n"
     ]
    }
   ],
   "source": [
    "## Regresión Ridge\n",
    "ridge = linear_model.Ridge(alpha=1) # Crear un regresor Ridge\n",
    "ridge.fit(X_train, y_train) # Realizar el ajuste\n",
    "\n",
    "# Coeficientes de regresión\n",
    "coefs_ridge = pd.Series(np.abs(ridge.coef_), variables).sort_values()\n",
    "\n",
    "# Predicción\n",
    "y_test_pred_ridge = ridge.predict(X_test)\n",
    "\n",
    "# Evaluación\n",
    "mse_ridge = mean_squared_error(y_test, y_test_pred_ridge)\n",
    "r2score_ridge_train = ridge.score(X_train, y_train)\n",
    "r2score_ridge_test = ridge.score(X_test, y_test)\n",
    "\n",
    "# Mostrar resultados\n",
    "# Intercepto y coeficientes\n",
    "print('\\nIntercepto y coeficientes:\\n{} {}'.format(ridge.intercept_, ridge.coef_))\n",
    "# Error cuadrático medio\n",
    "print('\\nError Cuadrático Medio (MSE): {}'.format(mse_ridge))\n",
    "# Coeficiente de determinación: 1 es una predicción perfecta\n",
    "print('Puntaje R^2 (entrenamiento): {}'.format(r2score_ridge_train))\n",
    "print('Puntaje R^2 (prueba): {}'.format(r2score_ridge_test))"
   ]
  },
  {
   "cell_type": "code",
   "execution_count": 76,
   "metadata": {},
   "outputs": [
    {
     "data": {
      "text/plain": [
       "Fuel Cost/Year        0.030087\n",
       "Year                  0.312988\n",
       "Cylinders             2.012983\n",
       "Combined MPG          3.012048\n",
       "Fuel Barrels/Year    19.298325\n",
       "dtype: float64"
      ]
     },
     "execution_count": 76,
     "metadata": {},
     "output_type": "execute_result"
    }
   ],
   "source": [
    "coefs_ridge"
   ]
  },
  {
   "cell_type": "code",
   "execution_count": 75,
   "metadata": {},
   "outputs": [
    {
     "data": {
      "text/plain": [
       "<Axes: title={'center': 'Coeficientes Ridge (Valor Absoluto)'}>"
      ]
     },
     "execution_count": 75,
     "metadata": {},
     "output_type": "execute_result"
    },
    {
     "data": {
      "image/png": "[encoded data removed]",
      "text/plain": [
       "<Figure size 640x480 with 1 Axes>"
      ]
     },
     "metadata": {},
     "output_type": "display_data"
    }
   ],
   "source": [
    "# Graficar el valor absoluto de los coeficientes del modelo Ridge\n",
    "coefs_ridge.plot(kind='bar', title='Coeficientes Ridge (Valor Absoluto)')"
   ]
  },
  {
   "cell_type": "markdown",
   "metadata": {},
   "source": [
    "LASSO"
   ]
  },
  {
   "cell_type": "code",
   "execution_count": 79,
   "metadata": {},
   "outputs": [
    {
     "name": "stdout",
     "output_type": "stream",
     "text": [
      "Error Cuadrático Medio (MSE): 275.66496366229535\n",
      "Puntaje R^2 (entrenamiento): 0.9822302612243881\n",
      "Puntaje R^2 (prueba): 0.9804749239657328\n"
     ]
    }
   ],
   "source": [
    "## Regresión Lasso\n",
    "lasso = linear_model.Lasso(alpha=1)\n",
    "lasso.fit(X_train, y_train)\n",
    "\n",
    "# Coeficientes de regresión\n",
    "coefs_lasso = pd.Series(np.abs(lasso.coef_),variables ).sort_values()\n",
    "\n",
    "# Predicción\n",
    "y_test_pred_lasso = lasso.predict(X_test)\n",
    "\n",
    "# Evaluación\n",
    "mse_lasso = mean_squared_error(y_test, y_test_pred_lasso)\n",
    "r2score_lasso_train = lasso.score(X_train, y_train)\n",
    "r2score_lasso_test = lasso.score(X_test, y_test)\n",
    "\n",
    "# Mostrar resultados\n",
    "# Error cuadrático medio\n",
    "print('Error Cuadrático Medio (MSE): {}'.format(mse_lasso))\n",
    "# Coeficiente de determinación: 1 es una predicción perfecta\n",
    "print('Puntaje R^2 (entrenamiento): {}'.format(r2score_lasso_train))\n",
    "print('Puntaje R^2 (prueba): {}'.format(r2score_lasso_test))"
   ]
  },
  {
   "cell_type": "code",
   "execution_count": 81,
   "metadata": {},
   "outputs": [
    {
     "data": {
      "text/plain": [
       "Fuel Cost/Year        0.034278\n",
       "Year                  0.294990\n",
       "Cylinders             1.194942\n",
       "Combined MPG          2.970405\n",
       "Fuel Barrels/Year    19.100502\n",
       "dtype: float64"
      ]
     },
     "execution_count": 81,
     "metadata": {},
     "output_type": "execute_result"
    }
   ],
   "source": [
    "coefs_lasso"
   ]
  },
  {
   "cell_type": "code",
   "execution_count": 80,
   "metadata": {},
   "outputs": [
    {
     "data": {
      "text/plain": [
       "<Axes: title={'center': 'Coeficientes Lasso (Valor Absoluto)'}>"
      ]
     },
     "execution_count": 80,
     "metadata": {},
     "output_type": "execute_result"
    },
    {
     "data": {
      "image/png": "[encoded data removed]",
      "text/plain": [
       "<Figure size 640x480 with 1 Axes>"
      ]
     },
     "metadata": {},
     "output_type": "display_data"
    }
   ],
   "source": [
    "# Graficar el valor absoluto de los coeficientes del modelo Lasso\n",
    "coefs_lasso.plot(kind='bar', title='Coeficientes Lasso (Valor Absoluto)')"
   ]
  },
  {
   "cell_type": "markdown",
   "metadata": {},
   "source": [
    "Comparamos resultados después de hacer la regularización de Ridge y Lasso"
   ]
  },
  {
   "cell_type": "code",
   "execution_count": 82,
   "metadata": {},
   "outputs": [
    {
     "data": {
      "image/png": "[encoded data removed]",
      "text/plain": [
       "<Figure size 1500x500 with 3 Axes>"
      ]
     },
     "metadata": {},
     "output_type": "display_data"
    }
   ],
   "source": [
    "f = plt.figure(figsize=(15,5))\n",
    "ax1 = f.add_subplot(131)\n",
    "ax2 = f.add_subplot(132)\n",
    "ax3 = f.add_subplot(133)\n",
    "\n",
    "coefs_lr.plot(kind=\"barh\", title='Coeficientes Regresión Lineal', ax=ax1)\n",
    "coefs_ridge.plot(kind=\"barh\", title='Coeficientes Ridge', ax=ax2)\n",
    "coefs_lasso.plot(kind=\"barh\", title='Coeficientes Lasso', ax=ax3)\n",
    "\n",
    "ax1.set_xlabel('Valor Absoluto del Coeficiente')\n",
    "ax2.set_xlabel('Valor Absoluto del Coeficiente')\n",
    "ax3.set_xlabel('Valor Absoluto del Coeficiente')\n",
    "\n",
    "plt.tight_layout()\n",
    "plt.show()"
   ]
  },
  {
   "cell_type": "code",
   "execution_count": 83,
   "metadata": {},
   "outputs": [
    {
     "name": "stdout",
     "output_type": "stream",
     "text": [
      "Variables no importantes: []\n",
      "Variable más importante: Fuel Barrels/Year\n"
     ]
    }
   ],
   "source": [
    "print('Variables no importantes: {}'.format(coefs_lasso.index[coefs_lasso == 0].values))\n",
    "print('Variable más importante: {}'.format(coefs_lasso.index[-1]))"
   ]
  },
  {
   "cell_type": "code",
   "execution_count": 84,
   "metadata": {},
   "outputs": [
    {
     "data": {
      "text/html": [
       "<div>\n",
       "<style scoped>\n",
       "    .dataframe tbody tr th:only-of-type {\n",
       "        vertical-align: middle;\n",
       "    }\n",
       "\n",
       "    .dataframe tbody tr th {\n",
       "        vertical-align: top;\n",
       "    }\n",
       "\n",
       "    .dataframe thead th {\n",
       "        text-align: right;\n",
       "    }\n",
       "</style>\n",
       "<table border=\"1\" class=\"dataframe\">\n",
       "  <thead>\n",
       "    <tr style=\"text-align: right;\">\n",
       "      <th></th>\n",
       "      <th>Entrenamiento</th>\n",
       "      <th>Prueba</th>\n",
       "    </tr>\n",
       "  </thead>\n",
       "  <tbody>\n",
       "    <tr>\n",
       "      <th>Sin regularización</th>\n",
       "      <td>0.982305</td>\n",
       "      <td>0.980489</td>\n",
       "    </tr>\n",
       "    <tr>\n",
       "      <th>Ridge</th>\n",
       "      <td>0.982305</td>\n",
       "      <td>0.980490</td>\n",
       "    </tr>\n",
       "    <tr>\n",
       "      <th>Lasso</th>\n",
       "      <td>0.982230</td>\n",
       "      <td>0.980475</td>\n",
       "    </tr>\n",
       "  </tbody>\n",
       "</table>\n",
       "</div>"
      ],
      "text/plain": [
       "                    Entrenamiento    Prueba\n",
       "Sin regularización       0.982305  0.980489\n",
       "Ridge                    0.982305  0.980490\n",
       "Lasso                    0.982230  0.980475"
      ]
     },
     "execution_count": 84,
     "metadata": {},
     "output_type": "execute_result"
    }
   ],
   "source": [
    "scores = [[r2score_train, r2score_test],\n",
    "         [r2score_ridge_train, r2score_ridge_test],\n",
    "         [r2score_lasso_train, r2score_lasso_test]]\n",
    "df_scores = pd.DataFrame(scores, columns=[\"Entrenamiento\", \"Prueba\"], index=[\"Sin regularización\", \"Ridge\", \"Lasso\"])\n",
    "#df_scores.sort_values(by=\"test_score\", ascending=False, inplace=True)\n",
    "df_scores"
   ]
  },
  {
   "cell_type": "markdown",
   "metadata": {},
   "source": [
    "#### NORMALIZACIÓN DE DATOS"
   ]
  },
  {
   "cell_type": "code",
   "execution_count": 85,
   "metadata": {},
   "outputs": [],
   "source": [
    "from sklearn.preprocessing import StandardScaler"
   ]
  },
  {
   "cell_type": "code",
   "execution_count": 87,
   "metadata": {},
   "outputs": [],
   "source": [
    "# Ajustar el StandardScaler y transformar los datos de entrenamiento\n",
    "scalerX = StandardScaler().fit(X_train)\n",
    "X_train_norm = scalerX.transform(X_train)\n",
    "X_test_norm = scalerX.transform(X_test)"
   ]
  },
  {
   "cell_type": "code",
   "execution_count": 92,
   "metadata": {},
   "outputs": [],
   "source": [
    "# Entrenar modelos\n",
    "lr_norm = linear_model.LinearRegression()\n",
    "ridge_norm = linear_model.Ridge(alpha=.3)\n",
    "lasso_norm = linear_model.Lasso(alpha=.3)\n",
    "\n",
    "lr_norm.fit(X_train_norm, y_train)\n",
    "ridge_norm.fit(X_train_norm, y_train)\n",
    "lasso_norm.fit(X_train_norm, y_train)\n",
    "\n",
    "# Coeficientes de regresión\n",
    "coefs_lr_norm = pd.Series(np.abs(lr_norm.coef_), variables).sort_values()\n",
    "coefs_ridge_norm = pd.Series(np.abs(ridge_norm.coef_), variables).sort_values()\n",
    "coefs_lasso_norm = pd.Series(np.abs(lasso_norm.coef_), variables).sort_values()"
   ]
  },
  {
   "cell_type": "code",
   "execution_count": 94,
   "metadata": {},
   "outputs": [
    {
     "data": {
      "text/plain": [
       "<Axes: title={'center': 'Coeficientes Lasso Normalizados'}>"
      ]
     },
     "execution_count": 94,
     "metadata": {},
     "output_type": "execute_result"
    },
    {
     "data": {
      "image/png": "[encoded data removed]",
      "text/plain": [
       "<Figure size 1500x500 with 3 Axes>"
      ]
     },
     "metadata": {},
     "output_type": "display_data"
    }
   ],
   "source": [
    "f = plt.figure(figsize=(15,5))\n",
    "ax1 = f.add_subplot(131)\n",
    "ax2 = f.add_subplot(132)\n",
    "ax3 = f.add_subplot(133)\n",
    "\n",
    "coefs_lr_norm.plot(kind=\"barh\", title='Coeficientes Regresión Lineal Normalizados', ax=ax1)\n",
    "coefs_ridge_norm.plot(kind=\"barh\", title='Coeficientes Ridge Normalizados', ax=ax2)\n",
    "coefs_lasso_norm.plot(kind=\"barh\", title='Coeficientes Lasso Normalizados', ax=ax3)"
   ]
  },
  {
   "cell_type": "markdown",
   "metadata": {},
   "source": [
    "Imprime el resumen de tu regresión e interpreta los resultados. ¿Cuáles son las variables más importantes en tu modelo y por qué? ¿Qué conclusiones puedes sacar de tu modelo y qué tan confiado estás en estas conclusiones? Agrega tus respuestas como comentarios después de tu código."
   ]
  },
  {
   "cell_type": "code",
   "execution_count": 95,
   "metadata": {},
   "outputs": [
    {
     "name": "stdout",
     "output_type": "stream",
     "text": [
      "lr: 0.9804894707368844\n",
      "ridge: 0.9804895929424136\n",
      "lasso: 0.9804749239657328\n",
      "lr_norm: 0.9804894707368844\n",
      "ridge_norm: 0.9804900408255895\n",
      "lasso_norm: 0.9804765948674509\n"
     ]
    }
   ],
   "source": [
    "# Scores\n",
    "print('lr: {}'.format(lr.score(X_test, y_test)))\n",
    "print('ridge: {}'.format(ridge.score(X_test, y_test)))\n",
    "print('lasso: {}'.format(lasso.score(X_test, y_test)))\n",
    "print('lr_norm: {}'.format(lr_norm.score(X_test_norm, y_test)))\n",
    "print('ridge_norm: {}'.format(ridge_norm.score(X_test_norm, y_test)))\n",
    "print('lasso_norm: {}'.format(lasso_norm.score(X_test_norm, y_test)))"
   ]
  },
  {
   "cell_type": "markdown",
   "metadata": {},
   "source": [
    "Mejor regresión: Regresión Ridge con datos normalizados (ridge_norm):\n",
    "El modelo de regresión Ridge explica alrededor del 98.05% de la variabilidad de la variable dependiente utilizando los datos de prueba normalizados. El resultado puede haber mejorado debido a la regularización que ayuda a manejar la multicolinealidad."
   ]
  },
  {
   "cell_type": "markdown",
   "metadata": {},
   "source": [
    "## Desafío Extra: Análisis de Errores\n",
    "\n",
    "Estoy sospechando de las últimas fiestas que he organizado: parece que cuanto más gente invito, más personas no pueden asistir. Para saber si mi presentimiento está respaldado por los datos, he decidido hacer un análisis. He recopilado mis datos en la tabla a continuación, donde X es el número de personas que invité, y Y es el número de personas que asistieron.\n",
    "\n",
    "|  X |  Y |\n",
    "|----|----|\n",
    "| 1  |  1 |\n",
    "| 3  |  2 |\n",
    "| 4  |  4 |\n",
    "| 6  |  4 |\n",
    "| 8  |  5 |\n",
    "| 9  |  7 |\n",
    "| 11 |  8 |\n",
    "| 14 |  13 |\n",
    "\n",
    "Queremos saber si la relación modelada por las dos variables aleatorias es lineal o no, y por lo tanto, si es apropiado modelarla con una regresión lineal.\n",
    "Primero, construye un dataframe con los datos."
   ]
  },
  {
   "cell_type": "code",
   "execution_count": 119,
   "metadata": {},
   "outputs": [],
   "source": [
    "data = {\n",
    "    'Invitados': [1, 3, 4, 6, 8, 9, 11, 14],\n",
    "    'Asistidos': [1, 2, 4, 4, 5, 7, 8, 13]\n",
    "}\n",
    "\n",
    "fiesta = pd.DataFrame(data)"
   ]
  },
  {
   "cell_type": "markdown",
   "metadata": {},
   "source": [
    "Dibuja un diagrama de dispersión (scatter plot) para los datos y ajusta una línea de regresión."
   ]
  },
  {
   "cell_type": "code",
   "execution_count": 127,
   "metadata": {},
   "outputs": [
    {
     "data": {
      "image/png": "[encoded data removed]",
      "text/plain": [
       "<Figure size 640x480 with 1 Axes>"
      ]
     },
     "metadata": {},
     "output_type": "display_data"
    }
   ],
   "source": [
    "X = fiesta['Invitados']\n",
    "y = fiesta['Asistidos']\n",
    "\n",
    "X = np.array(X, dtype=np.float64).reshape(-1,1)\n",
    "y = np.array(y, dtype=np.float64)\n",
    "\n",
    "plt.scatter(x, y)\n",
    "plt.xlabel('Invitados')\n",
    "plt.ylabel('Asistidos')\n",
    "plt.title('Diagrama de dispersión de los Invitados y los Asistidos')\n",
    "plt.show()\n"
   ]
  },
  {
   "cell_type": "markdown",
   "metadata": {},
   "source": [
    "¿Qué ves? ¿Qué te indica este gráfico sobre la probable relación entre las variables? Imprime los resultados de tu regresión."
   ]
  },
  {
   "cell_type": "code",
   "execution_count": 128,
   "metadata": {},
   "outputs": [
    {
     "name": "stdout",
     "output_type": "stream",
     "text": [
      "(6, 1) (2, 1) (6,) (2,)\n",
      "Coeficiente de la pendiente (b1): 0.8484848484848485\n",
      "Intercepto (b0): -0.43939393939393945\n"
     ]
    }
   ],
   "source": [
    "#1. División en entrenamiento y prueba\n",
    "X_train, X_test, y_train, y_test = train_test_split(X, y, test_size=.2)\n",
    "print(X_train.shape, X_test.shape, y_train.shape, y_test.shape)\n",
    "\n",
    "# Instanciar el modelo de regresión lineal\n",
    "model = LinearRegression()\n",
    "\n",
    "# Ajustar el modelo a los datos\n",
    "model.fit(X, y)\n",
    "\n",
    "# Obtener los coeficientes del modelo\n",
    "print(f'Coeficiente de la pendiente (b1): {model.coef_[0]}')\n",
    "print(f'Intercepto (b0): {model.intercept_}')"
   ]
  },
  {
   "cell_type": "code",
   "execution_count": 129,
   "metadata": {},
   "outputs": [
    {
     "name": "stdout",
     "output_type": "stream",
     "text": [
      "Score:\n",
      "-2.2000839784193436 -485.3581065747456\n",
      "MSE:\n",
      "31.378601232834118 121.5895266436864\n"
     ]
    }
   ],
   "source": [
    "print('Score:')\n",
    "print(lm.score(X_train, y_train), lm.score(X_test, y_test))\n",
    "\n",
    "# Compute MSE for training and testing sets \n",
    "y_train_pred = lm.predict(X_train)\n",
    "y_test_pred = lm.predict(X_test)\n",
    "\n",
    "mse_train = np.mean((y_train_pred - y_train)**2)\n",
    "mse_test = np.mean((y_test_pred - y_test)**2)\n",
    "print('MSE:')\n",
    "print(mse_train, mse_test)"
   ]
  },
  {
   "cell_type": "markdown",
   "metadata": {},
   "source": [
    "Visualmente podríamos pensar que existe una relación positiva entre el número de invitados y de asistentes."
   ]
  },
  {
   "cell_type": "markdown",
   "metadata": {},
   "source": [
    "¿Ves algún punto problemático o valores atípicos en tus datos? Elimina estos puntos y recalcula tu regresión. Imprime el nuevo diagrama de dispersión con tu nuevo modelo y los resultados de tu modelo."
   ]
  },
  {
   "cell_type": "code",
   "execution_count": 130,
   "metadata": {},
   "outputs": [],
   "source": [
    "data_outlier = {\n",
    "    'Invitados': [1, 3, 4, 6, 8, 9, 11],\n",
    "    'Asistidos': [1, 2, 4, 4, 5, 7, 8]\n",
    "}\n",
    "\n",
    "fiesta2 = pd.DataFrame(data_outlier)"
   ]
  },
  {
   "cell_type": "code",
   "execution_count": 131,
   "metadata": {},
   "outputs": [],
   "source": [
    "X = fiesta2['Invitados']\n",
    "y = fiesta2['Asistidos']\n",
    "\n",
    "X = np.array(X, dtype=np.float64).reshape(-1,1)\n",
    "y = np.array(y, dtype=np.float64)"
   ]
  },
  {
   "cell_type": "code",
   "execution_count": 132,
   "metadata": {},
   "outputs": [
    {
     "name": "stdout",
     "output_type": "stream",
     "text": [
      "(5, 1) (2, 1) (5,) (2,)\n"
     ]
    }
   ],
   "source": [
    "#1. División en entrenamiento y prueba\n",
    "X_train, X_test, y_train, y_test = train_test_split(X, y, test_size=.2)\n",
    "print(X_train.shape, X_test.shape, y_train.shape, y_test.shape)"
   ]
  },
  {
   "cell_type": "code",
   "execution_count": 133,
   "metadata": {},
   "outputs": [
    {
     "name": "stdout",
     "output_type": "stream",
     "text": [
      "Coeficiente de la pendiente (b1): 0.6842105263157894\n",
      "Intercepto (b0): 0.32330827067669254\n"
     ]
    }
   ],
   "source": [
    "# Instanciar el modelo de regresión lineal\n",
    "model = LinearRegression()\n",
    "\n",
    "# Ajustar el modelo a los datos\n",
    "model.fit(X, y)\n",
    "\n",
    "# Obtener los coeficientes del modelo\n",
    "print(f'Coeficiente de la pendiente (b1): {model.coef_[0]}')\n",
    "print(f'Intercepto (b0): {model.intercept_}')"
   ]
  },
  {
   "cell_type": "markdown",
   "metadata": {},
   "source": [
    "¿Qué cambió? Basado en los resultados de los dos modelos y tus gráficos, ¿qué puedes decir sobre la forma de los datos con el punto problemático y sin él?"
   ]
  },
  {
   "cell_type": "code",
   "execution_count": 134,
   "metadata": {},
   "outputs": [
    {
     "name": "stdout",
     "output_type": "stream",
     "text": [
      "Score:\n",
      "-10.625624811525416 -14.715228052602356\n",
      "MSE:\n",
      "69.75374886915249 35.3592631183553\n"
     ]
    }
   ],
   "source": [
    "print('Score:')\n",
    "print(lm.score(X_train, y_train), lm.score(X_test, y_test))\n",
    "\n",
    "# Compute MSE for training and testing sets \n",
    "y_train_pred = lm.predict(X_train)\n",
    "y_test_pred = lm.predict(X_test)\n",
    "\n",
    "mse_train = np.mean((y_train_pred - y_train)**2)\n",
    "mse_test = np.mean((y_test_pred - y_test)**2)\n",
    "print('MSE:')\n",
    "print(mse_train, mse_test)"
   ]
  },
  {
   "cell_type": "markdown",
   "metadata": {},
   "source": [
    "*tu explicación aquí*"
   ]
  }
 ],
 "metadata": {
  "kernelspec": {
   "display_name": "Python 3 (ipykernel)",
   "language": "python",
   "name": "python3"
  },
  "language_info": {
   "codemirror_mode": {
    "name": "ipython",
    "version": 3
   },
   "file_extension": ".py",
   "mimetype": "text/x-python",
   "name": "python",
   "nbconvert_exporter": "python",
   "pygments_lexer": "ipython3",
   "version": "3.10.12"
  }
 },
 "nbformat": 4,
 "nbformat_minor": 4
}
